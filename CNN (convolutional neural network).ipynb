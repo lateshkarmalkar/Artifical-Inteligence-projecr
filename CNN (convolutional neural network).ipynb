{
  "nbformat": 4,
  "nbformat_minor": 0,
  "metadata": {
    "colab": {
      "provenance": [],
      "gpuType": "T4"
    },
    "kernelspec": {
      "name": "python3",
      "display_name": "Python 3"
    },
    "language_info": {
      "name": "python"
    },
    "accelerator": "GPU"
  },
  "cells": [
    {
      "cell_type": "code",
      "source": [
        "# import the required libraries\n",
        "import random\n",
        "import numpy as np\n",
        "import pandas as pd\n",
        "import matplotlib.pyplot as plt\n",
        "import seaborn as sns\n",
        "\n",
        "# import deep learning libraries\n",
        "import keras\n",
        "from keras.models import Sequential\n",
        "from keras.layers import Conv2D, MaxPooling2D, Flatten, Dense # input layer + hidden layer + output layer\n",
        "\n",
        "# ignore harmless warnings\n",
        "import warnings\n",
        "warnings.filterwarnings('ignore')"
      ],
      "metadata": {
        "id": "4rJ9VaSfZ2bE"
      },
      "execution_count": 4,
      "outputs": []
    },
    {
      "cell_type": "code",
      "source": [
        "# Importing the data\n",
        "# Importing the training data\n",
        "x_train = np.loadtxt('/content/drive/MyDrive/input.csv', delimiter=',')\n",
        "y_train = np.loadtxt('/content/drive/MyDrive/labels.csv', delimiter=',')\n",
        "\n",
        "# Importing the testing data\n",
        "x_test = np.loadtxt('/content/drive/MyDrive/input_test.csv', delimiter=',')\n",
        "y_test = np.loadtxt('/content/drive/MyDrive/labels_test.csv', delimiter=',')"
      ],
      "metadata": {
        "id": "Msr8kYuuSTPb"
      },
      "execution_count": 5,
      "outputs": []
    },
    {
      "cell_type": "code",
      "source": [
        "x_train"
      ],
      "metadata": {
        "colab": {
          "base_uri": "https://localhost:8080/"
        },
        "id": "taCBQfg7gxXW",
        "outputId": "2d1f380b-4ec6-4cc9-e2b2-39bd2bddd5ff"
      },
      "execution_count": 6,
      "outputs": [
        {
          "output_type": "execute_result",
          "data": {
            "text/plain": [
              "array([[ 37.,  39.,  25., ...,  58.,  54.,  29.],\n",
              "       [131., 128., 135., ...,  71.,  96.,  74.],\n",
              "       [ 80.,  92.,  88., ..., 124., 119.,  99.],\n",
              "       ...,\n",
              "       [231., 226., 230., ...,  62.,  65.,  72.],\n",
              "       [ 61.,  61.,  63., ..., 135., 123., 123.],\n",
              "       [ 64.,  31.,  12., ...,  61.,  49.,  35.]])"
            ]
          },
          "metadata": {},
          "execution_count": 6
        }
      ]
    },
    {
      "cell_type": "code",
      "source": [
        "y_train"
      ],
      "metadata": {
        "colab": {
          "base_uri": "https://localhost:8080/"
        },
        "id": "mc018zVjcOeu",
        "outputId": "52f7f2c6-2979-4ac5-d732-b5060bc9fd24"
      },
      "execution_count": 7,
      "outputs": [
        {
          "output_type": "execute_result",
          "data": {
            "text/plain": [
              "array([0., 0., 0., ..., 1., 1., 1.])"
            ]
          },
          "metadata": {},
          "execution_count": 7
        }
      ]
    },
    {
      "cell_type": "code",
      "source": [
        "# Dimension of the data\n",
        "print(x_train.shape)\n",
        "print(y_train.shape)\n",
        "print(x_test.shape)\n",
        "print(y_test.shape)\n",
        "\n",
        "# (2000, 30000) --> 2000 images of each having 30000 columns, each column is a pixel"
      ],
      "metadata": {
        "id": "7JW0aWSISS10",
        "colab": {
          "base_uri": "https://localhost:8080/"
        },
        "outputId": "b9010ccc-48e0-41e5-f43b-9474b2076e9d"
      },
      "execution_count": 13,
      "outputs": [
        {
          "output_type": "stream",
          "name": "stdout",
          "text": [
            "(400, 30000)\n",
            "(400,)\n"
          ]
        }
      ]
    },
    {
      "cell_type": "code",
      "source": [
        "2000*30000"
      ],
      "metadata": {
        "colab": {
          "base_uri": "https://localhost:8080/"
        },
        "id": "xFmT90YOx1_F",
        "outputId": "184a56c6-fc11-4f27-d3bd-edd28504c42a"
      },
      "execution_count": 10,
      "outputs": [
        {
          "output_type": "execute_result",
          "data": {
            "text/plain": [
              "60000000"
            ]
          },
          "metadata": {},
          "execution_count": 10
        }
      ]
    },
    {
      "cell_type": "code",
      "source": [
        "# pixel values\n",
        "print('Minimum pixel value:', x_train.min())\n",
        "print('Maximum pixel value:', x_train.max())\n",
        "\n",
        "# This represents the image can be RGB"
      ],
      "metadata": {
        "id": "YZi-wIvWcDc9",
        "colab": {
          "base_uri": "https://localhost:8080/"
        },
        "outputId": "ddca376d-32cd-4b9e-c3cf-e16096569353"
      },
      "execution_count": 18,
      "outputs": [
        {
          "output_type": "stream",
          "name": "stdout",
          "text": [
            "Minimum pixel value: 0.0\n",
            "Maximum pixel value: 255.0\n"
          ]
        }
      ]
    },
    {
      "cell_type": "code",
      "source": [
        "# reshape the training data\n",
        "x_train = x_train.reshape(len(x_train), 100, 100, 3)\n",
        "y_train = y_train.reshape(len(y_train), 1)\n",
        "\n",
        "# reshape the test data\n",
        "x_test = x_test.reshape(len(x_test), 100, 100, 3)\n",
        "y_test = y_test.reshape(len(y_test), 1)"
      ],
      "metadata": {
        "id": "wwgSH5lLbFXE"
      },
      "execution_count": 17,
      "outputs": []
    },
    {
      "cell_type": "code",
      "source": [
        "# data after reshaping\n",
        "print('Shape of the data after reshaping:')\n",
        "print(x_train.shape)\n",
        "print(y_train.shape)\n",
        "print(x_test.shape)\n",
        "print(y_test.shape)"
      ],
      "metadata": {
        "colab": {
          "base_uri": "https://localhost:8080/"
        },
        "id": "Q8gexQQhca4E",
        "outputId": "4f4f87b0-6bb8-4481-8574-3f6c7f3d528c"
      },
      "execution_count": null,
      "outputs": [
        {
          "output_type": "stream",
          "name": "stdout",
          "text": [
            "Shape of the data after reshaping:\n",
            "(2000, 100, 100, 3)\n",
            "(2000, 1)\n",
            "(400, 100, 100, 3)\n",
            "(400, 1)\n"
          ]
        }
      ]
    },
    {
      "cell_type": "code",
      "source": [
        "# Data scaling\n",
        "x_train = x_train/255.0\n",
        "x_test = x_test/255.0"
      ],
      "metadata": {
        "id": "ckFcf4gkeFVH"
      },
      "execution_count": 19,
      "outputs": []
    },
    {
      "cell_type": "code",
      "source": [
        "x_train"
      ],
      "metadata": {
        "id": "pcgWCnNtek-P"
      },
      "execution_count": null,
      "outputs": []
    },
    {
      "cell_type": "code",
      "source": [
        "x_test"
      ],
      "metadata": {
        "collapsed": true,
        "id": "ExrVyJVpemZk"
      },
      "execution_count": null,
      "outputs": []
    },
    {
      "cell_type": "code",
      "source": [
        "100*100*3"
      ],
      "metadata": {
        "colab": {
          "base_uri": "https://localhost:8080/"
        },
        "id": "5X9lPTxmzGP7",
        "outputId": "fc3b9e0e-5220-4634-9a32-b05531baab5b"
      },
      "execution_count": 16,
      "outputs": [
        {
          "output_type": "execute_result",
          "data": {
            "text/plain": [
              "30000"
            ]
          },
          "metadata": {},
          "execution_count": 16
        }
      ]
    },
    {
      "cell_type": "code",
      "source": [
        "30000/3"
      ],
      "metadata": {
        "colab": {
          "base_uri": "https://localhost:8080/"
        },
        "id": "E3qvEEGCy-GV",
        "outputId": "09e24a8a-76c4-4d2e-f8af-a8de19cbde71"
      },
      "execution_count": 14,
      "outputs": [
        {
          "output_type": "execute_result",
          "data": {
            "text/plain": [
              "10000.0"
            ]
          },
          "metadata": {},
          "execution_count": 14
        }
      ]
    },
    {
      "cell_type": "code",
      "source": [
        "# printing the first image\n",
        "plt.imshow(x_train[1125, :])\n",
        "plt.show()\n",
        "\n",
        "# print the target for the first image\n",
        "print('The target label is:', y_train[0])\n"
      ],
      "metadata": {
        "colab": {
          "base_uri": "https://localhost:8080/",
          "height": 450
        },
        "id": "74Qjl17Deuol",
        "outputId": "4d048f29-5f79-4562-f7da-dcc0bc23f583"
      },
      "execution_count": null,
      "outputs": [
        {
          "output_type": "display_data",
          "data": {
            "text/plain": [
              "<Figure size 640x480 with 1 Axes>"
            ],
            "image/png": "[encoded data removed]"
          },
          "metadata": {}
        },
        {
          "output_type": "stream",
          "name": "stdout",
          "text": [
            "The target label is: [0.]\n"
          ]
        }
      ]
    },
    {
      "cell_type": "code",
      "source": [
        "# This target label with the training image states 0 is dog 1 is cat\n",
        "\n",
        "\n",
        "# --- DONT RUN THIS CELL --- #\n",
        "\n",
        "# Traditional way of building the network\n",
        "# model building\n",
        "# model = Sequential()\n",
        "\n",
        "# # First Conv Layer\n",
        "# model.add(Conv2D(32, (3, 3), activation = 'relu', input_shape=(100, 100, 3)))   # 32 - no.of.filters each of size 3x3\n",
        "# model.MaxPooling2D((2,2))\n",
        "\n",
        "# # Second Conv Layer\n",
        "# model.add(Conv2D(32, (3, 3), activation = 'relu'))\n",
        "# model.MaxPooling2D((2,2))\n",
        "\n",
        "# # Flattening layer\n",
        "# model.add(Flatten())\n",
        "\n",
        "# # Fully connected layer\n",
        "# # first dense layer\n",
        "# model.add(Dense(70, activation='relu'))   # 70 neurons in the connecting layer\n",
        "# # final output layer\n",
        "# model.add(Dense(1, activation='sigmoid'))"
      ],
      "metadata": {
        "id": "jWWumuzziJcH"
      },
      "execution_count": null,
      "outputs": []
    },
    {
      "cell_type": "code",
      "source": [
        "# Conventional way\n",
        "model = Sequential([\n",
        "    # first conv layer\n",
        "    Conv2D(32, (3,3), activation='relu', input_shape=(100, 100, 3)),\n",
        "    MaxPooling2D((2,2)),\n",
        "\n",
        "    # second conv layer\n",
        "    Conv2D(32, (3,3), activation='relu'),\n",
        "    MaxPooling2D((2,2)),\n",
        "\n",
        "    # Flatter\n",
        "    Flatten(),\n",
        "\n",
        "    # First Dense layer\n",
        "    Dense(70, activation='relu'),\n",
        "\n",
        "    # Output layer\n",
        "    Dense(1, activation='sigmoid')\n",
        "])"
      ],
      "metadata": {
        "id": "fe9tQDONiMzW"
      },
      "execution_count": null,
      "outputs": []
    },
    {
      "cell_type": "code",
      "source": [
        "# Compiling the model\n",
        "model.compile(loss='binary_crossentropy', optimizer='SGD', metrics=['accuracy'])"
      ],
      "metadata": {
        "id": "yActIv1JiPX-"
      },
      "execution_count": null,
      "outputs": []
    },
    {
      "cell_type": "code",
      "source": [
        "# training the model with the data\n",
        "model.fit(x_train, y_train, epochs=20, batch_size=32)"
      ],
      "metadata": {
        "colab": {
          "base_uri": "https://localhost:8080/"
        },
        "id": "xO9Duc0ElBEn",
        "outputId": "20fa2aae-2d0b-4b63-f2d5-db9956820886"
      },
      "execution_count": null,
      "outputs": [
        {
          "output_type": "stream",
          "name": "stdout",
          "text": [
            "Epoch 1/20\n",
            "\u001b[1m63/63\u001b[0m \u001b[32m━━━━━━━━━━━━━━━━━━━━\u001b[0m\u001b[37m\u001b[0m \u001b[1m1s\u001b[0m 10ms/step - accuracy: 0.8497 - loss: 0.3540\n",
            "Epoch 2/20\n",
            "\u001b[1m63/63\u001b[0m \u001b[32m━━━━━━━━━━━━━━━━━━━━\u001b[0m\u001b[37m\u001b[0m \u001b[1m1s\u001b[0m 10ms/step - accuracy: 0.8457 - loss: 0.3592\n",
            "Epoch 3/20\n",
            "\u001b[1m63/63\u001b[0m \u001b[32m━━━━━━━━━━━━━━━━━━━━\u001b[0m\u001b[37m\u001b[0m \u001b[1m2s\u001b[0m 17ms/step - accuracy: 0.8407 - loss: 0.3608\n",
            "Epoch 4/20\n",
            "\u001b[1m63/63\u001b[0m \u001b[32m━━━━━━━━━━━━━━━━━━━━\u001b[0m\u001b[37m\u001b[0m \u001b[1m1s\u001b[0m 12ms/step - accuracy: 0.8618 - loss: 0.3296\n",
            "Epoch 5/20\n",
            "\u001b[1m63/63\u001b[0m \u001b[32m━━━━━━━━━━━━━━━━━━━━\u001b[0m\u001b[37m\u001b[0m \u001b[1m1s\u001b[0m 14ms/step - accuracy: 0.8507 - loss: 0.3387\n",
            "Epoch 6/20\n",
            "\u001b[1m63/63\u001b[0m \u001b[32m━━━━━━━━━━━━━━━━━━━━\u001b[0m\u001b[37m\u001b[0m \u001b[1m1s\u001b[0m 10ms/step - accuracy: 0.8605 - loss: 0.3263\n",
            "Epoch 7/20\n",
            "\u001b[1m63/63\u001b[0m \u001b[32m━━━━━━━━━━━━━━━━━━━━\u001b[0m\u001b[37m\u001b[0m \u001b[1m1s\u001b[0m 9ms/step - accuracy: 0.8720 - loss: 0.3115\n",
            "Epoch 8/20\n",
            "\u001b[1m63/63\u001b[0m \u001b[32m━━━━━━━━━━━━━━━━━━━━\u001b[0m\u001b[37m\u001b[0m \u001b[1m1s\u001b[0m 8ms/step - accuracy: 0.8665 - loss: 0.3068\n",
            "Epoch 9/20\n",
            "\u001b[1m63/63\u001b[0m \u001b[32m━━━━━━━━━━━━━━━━━━━━\u001b[0m\u001b[37m\u001b[0m \u001b[1m1s\u001b[0m 9ms/step - accuracy: 0.8740 - loss: 0.2895\n",
            "Epoch 10/20\n",
            "\u001b[1m63/63\u001b[0m \u001b[32m━━━━━━━━━━━━━━━━━━━━\u001b[0m\u001b[37m\u001b[0m \u001b[1m1s\u001b[0m 9ms/step - accuracy: 0.8737 - loss: 0.3002\n",
            "Epoch 11/20\n",
            "\u001b[1m63/63\u001b[0m \u001b[32m━━━━━━━━━━━━━━━━━━━━\u001b[0m\u001b[37m\u001b[0m \u001b[1m1s\u001b[0m 9ms/step - accuracy: 0.8721 - loss: 0.2903\n",
            "Epoch 12/20\n",
            "\u001b[1m63/63\u001b[0m \u001b[32m━━━━━━━━━━━━━━━━━━━━\u001b[0m\u001b[37m\u001b[0m \u001b[1m1s\u001b[0m 9ms/step - accuracy: 0.8797 - loss: 0.2816\n",
            "Epoch 13/20\n",
            "\u001b[1m63/63\u001b[0m \u001b[32m━━━━━━━━━━━━━━━━━━━━\u001b[0m\u001b[37m\u001b[0m \u001b[1m1s\u001b[0m 9ms/step - accuracy: 0.8861 - loss: 0.2691\n",
            "Epoch 14/20\n",
            "\u001b[1m63/63\u001b[0m \u001b[32m━━━━━━━━━━━━━━━━━━━━\u001b[0m\u001b[37m\u001b[0m \u001b[1m1s\u001b[0m 9ms/step - accuracy: 0.8794 - loss: 0.2840\n",
            "Epoch 15/20\n",
            "\u001b[1m63/63\u001b[0m \u001b[32m━━━━━━━━━━━━━━━━━━━━\u001b[0m\u001b[37m\u001b[0m \u001b[1m1s\u001b[0m 9ms/step - accuracy: 0.8984 - loss: 0.2546\n",
            "Epoch 16/20\n",
            "\u001b[1m63/63\u001b[0m \u001b[32m━━━━━━━━━━━━━━━━━━━━\u001b[0m\u001b[37m\u001b[0m \u001b[1m1s\u001b[0m 9ms/step - accuracy: 0.8879 - loss: 0.2616\n",
            "Epoch 17/20\n",
            "\u001b[1m63/63\u001b[0m \u001b[32m━━━━━━━━━━━━━━━━━━━━\u001b[0m\u001b[37m\u001b[0m \u001b[1m1s\u001b[0m 9ms/step - accuracy: 0.8990 - loss: 0.2605\n",
            "Epoch 18/20\n",
            "\u001b[1m63/63\u001b[0m \u001b[32m━━━━━━━━━━━━━━━━━━━━\u001b[0m\u001b[37m\u001b[0m \u001b[1m1s\u001b[0m 9ms/step - accuracy: 0.8982 - loss: 0.2470\n",
            "Epoch 19/20\n",
            "\u001b[1m63/63\u001b[0m \u001b[32m━━━━━━━━━━━━━━━━━━━━\u001b[0m\u001b[37m\u001b[0m \u001b[1m1s\u001b[0m 9ms/step - accuracy: 0.9035 - loss: 0.2478\n",
            "Epoch 20/20\n",
            "\u001b[1m63/63\u001b[0m \u001b[32m━━━━━━━━━━━━━━━━━━━━\u001b[0m\u001b[37m\u001b[0m \u001b[1m1s\u001b[0m 9ms/step - accuracy: 0.8963 - loss: 0.2467\n"
          ]
        },
        {
          "output_type": "execute_result",
          "data": {
            "text/plain": [
              "<keras.src.callbacks.history.History at 0x7af8c83457c0>"
            ]
          },
          "metadata": {},
          "execution_count": 24
        }
      ]
    },
    {
      "cell_type": "code",
      "source": [
        "# evaluating the model\n",
        "model.evaluate(x_test, y_test)"
      ],
      "metadata": {
        "id": "jur_la3YmHPw"
      },
      "execution_count": null,
      "outputs": []
    },
    {
      "cell_type": "code",
      "source": [
        "# trainng data distribution of target\n",
        "unique, counts = np.unique(y_train, return_counts=True)\n",
        "print(unique, counts)"
      ],
      "metadata": {
        "id": "kmvkKsnrmogv"
      },
      "execution_count": null,
      "outputs": []
    },
    {
      "cell_type": "code",
      "source": [
        "len(x_test)"
      ],
      "metadata": {
        "id": "xapWmYDbm35X"
      },
      "execution_count": null,
      "outputs": []
    },
    {
      "cell_type": "code",
      "source": [
        "# predictions\n",
        "rdm_img = random.randint(0, len(x_test))\n",
        "plt.imshow(x_test[rdm_img, :])\n",
        "plt.show()\n",
        "\n",
        "# actual condition\n",
        "if y_test[rdm_img, :] == 0:\n",
        "    actual = 'Dog'\n",
        "else:\n",
        "    actual = 'Cat'\n",
        "\n",
        "# prediction for the given image\n",
        "y_pred = model.predict(x_test[rdm_img, :].reshape(1, 100, 100, 3))\n",
        "print('Prediction Probability:', y_pred)\n",
        "\n",
        "if y_pred >= 0.5:\n",
        "    pred = 'Cat'\n",
        "else:\n",
        "    pred = 'Dog'\n",
        "print('The actual image is:', actual)\n",
        "print('The model has predicted as:', pred)"
      ],
      "metadata": {
        "colab": {
          "base_uri": "https://localhost:8080/",
          "height": 502
        },
        "id": "a9JJaIEumpnO",
        "outputId": "db10b988-44ce-493d-cad8-e32cc6593068"
      },
      "execution_count": null,
      "outputs": [
        {
          "output_type": "display_data",
          "data": {
            "text/plain": [
              "<Figure size 640x480 with 1 Axes>"
            ],
            "image/png": "[encoded data removed]"
          },
          "metadata": {}
        },
        {
          "output_type": "stream",
          "name": "stdout",
          "text": [
            "\u001b[1m1/1\u001b[0m \u001b[32m━━━━━━━━━━━━━━━━━━━━\u001b[0m\u001b[37m\u001b[0m \u001b[1m0s\u001b[0m 468ms/step\n",
            "Prediction Probability: [[0.93735504]]\n",
            "The actual image is: Cat\n",
            "The model has predicted as: Cat\n"
          ]
        }
      ]
    },
    {
      "cell_type": "code",
      "source": [],
      "metadata": {
        "id": "Vfzi3B1TpgGI"
      },
      "execution_count": null,
      "outputs": []
    },
    {
      "cell_type": "code",
      "source": [],
      "metadata": {
        "id": "u25Pk5VzpEjf"
      },
      "execution_count": null,
      "outputs": []
    }
  ]
}